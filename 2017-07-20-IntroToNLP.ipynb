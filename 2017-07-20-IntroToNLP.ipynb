{
 "cells": [
  {
   "cell_type": "markdown",
   "metadata": {
    "slideshow": {
     "slide_type": "slide"
    }
   },
   "source": [
    "\n",
    "<img src=images/widsatx-logo-outline.png align=\"left\" width=\"18%\">\n",
    "\n",
    "\n",
    "<h1 align='center'>NLP</h1>\n",
    "<h3 align='center'>July 20, 2017</h3>\n",
    "<h3 align='center'>Women in Data Science - ATX</h3>\n",
    "<h3 align='center'>Data Science from Scratch Workshop</h3>"
   ]
  },
  {
   "cell_type": "markdown",
   "metadata": {
    "slideshow": {
     "slide_type": "slide"
    }
   },
   "source": [
    "## NLP: What is it (not) and How far have we come?"
   ]
  },
  {
   "cell_type": "markdown",
   "metadata": {
    "slideshow": {
     "slide_type": "subslide"
    }
   },
   "source": [
    "### Related areas\n",
    "   - Artificial Intelligence\n",
    "   - Formal Language Theory\n",
    "   - Machine Learning\n",
    "   - Linguistics\n",
    "   - Psycholinguistics\n",
    "   - Cognitive Science\n",
    "   - Philosophy of Language"
   ]
  },
  {
   "cell_type": "markdown",
   "metadata": {
    "slideshow": {
     "slide_type": "slide"
    }
   },
   "source": [
    "# Overview\n",
    "- **Acoustics/Phonetics:** sounds\n",
    "- **Syntax:** word order\n",
    "- **Semantics:** meaning\n",
    "- **Pragmatics:** communicative and social context"
   ]
  },
  {
   "cell_type": "markdown",
   "metadata": {
    "slideshow": {
     "slide_type": "subslide"
    }
   },
   "source": [
    "# Acoustics/Phonetics: sounds\n",
    "Siri, Alexa\n",
    "- Speech to text\n",
    "- Text to speech"
   ]
  },
  {
   "cell_type": "markdown",
   "metadata": {
    "slideshow": {
     "slide_type": "subslide"
    }
   },
   "source": [
    "# Syntax: word order  \n",
    "The dog bit the boy.  \n",
    "The boy bit the dog.  \n",
    "\\* Bit boy dog the the.  \n",
    "Colorless green ideas sleep furiously.  \n",
    "- Morphological Analysis \n",
    "- Part of Speech (POS) tagging\n",
    "- Grammars\n",
    "- Phrase chunking, Syntactic parsing\n",
    "- Dependendency parsing\n",
    "- Attachment ambiguity"
   ]
  },
  {
   "cell_type": "markdown",
   "metadata": {
    "slideshow": {
     "slide_type": "subslide"
    }
   },
   "source": [
    "# Syntax: attachment ambiguity\n",
    "I shot an elephant in my pajamas. How he got into my pajamas I'll never know.  \n",
    "-Groucho Marx"
   ]
  },
  {
   "cell_type": "markdown",
   "metadata": {
    "slideshow": {
     "slide_type": "subslide"
    }
   },
   "source": [
    "# **Semantics:** meaning  \n",
    "\n",
    "- Word sense disambiguation\n",
    "- Word similarity\n",
    "- Hyponymy and other word relations\n",
    "- Semantic role labeling\n",
    "- Textual entailment"
   ]
  },
  {
   "cell_type": "markdown",
   "metadata": {
    "slideshow": {
     "slide_type": "subslide"
    }
   },
   "source": [
    "# **Semantics:** meaning  \n",
    "\n",
    "make: 50+ meanings  \n",
    "http://wordnetweb.princeton.edu/perl/webwn?s=make&sub=Search+WordNet&o2=&o0=1&o8=1&o1=1&o7=&o5=&o9=&o6=&o3=&o4=&h=\n",
    "\n",
    "- Word sense disambiguation\n",
    "- Word similarity\n",
    "- Hyponymy and other word relations\n",
    "- Semantic role labeling\n",
    "- Textual entailment"
   ]
  },
  {
   "cell_type": "markdown",
   "metadata": {
    "slideshow": {
     "slide_type": "subslide"
    }
   },
   "source": [
    "# Pragmatics: communicative and social context  \n",
    "The ham sandwich wants another beer.  \n",
    "John thinks vanilla.  \n",
    "- Coreference resolution, Ellipsis resolution\n",
    "- Text summarization (abstractive vs. extractive)\n",
    "- Irony detection\n",
    "- Chatbots\n",
    "- Machine translation"
   ]
  }
 ],
 "metadata": {
  "anaconda-cloud": {},
  "celltoolbar": "Slideshow",
  "kernelspec": {
   "display_name": "Python 2",
   "language": "python",
   "name": "python2"
  },
  "language_info": {
   "codemirror_mode": {
    "name": "ipython",
    "version": 2
   },
   "file_extension": ".py",
   "mimetype": "text/x-python",
   "name": "python",
   "nbconvert_exporter": "python",
   "pygments_lexer": "ipython2",
   "version": "2.7.13"
  }
 },
 "nbformat": 4,
 "nbformat_minor": 1
}
